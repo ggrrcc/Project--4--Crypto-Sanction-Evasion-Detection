{
 "cells": [
  {
   "cell_type": "code",
   "execution_count": 12,
   "metadata": {},
   "outputs": [
    {
     "name": "stdout",
     "output_type": "stream",
     "text": [
      "[{'data': 'A, B, C',\n",
      "  'hash': '4f1f7e0ff0a793c5167ba1bf6e1daf4fc994344b6b6db65b5e806b72e2085717',\n",
      "  'index': 0,\n",
      "  'previous_hash': '0000000000000000000000000000000000000000000000000000000000000000',\n",
      "  'timestamp (UET)': 1741213993.67487}]\n"
     ]
    }
   ],
   "source": [
    "import hashlib\n",
    "import json\n",
    "import time\n",
    "\n",
    "class Block:\n",
    "    def __init__(self, index, previous_hash, data):\n",
    "        self.index = index\n",
    "        self.timestamp = time.time()\n",
    "        self.data = data  # Contains letters (A, B, C)\n",
    "        self.previous_hash = previous_hash\n",
    "        self.hash = self.calculate_hash()\n",
    "\n",
    "    def calculate_hash(self):\n",
    "        block_string = json.dumps({\n",
    "            \"index\": self.index,\n",
    "            \"timestamp\": self.timestamp,\n",
    "            \"data\": self.data,\n",
    "            \"previous_hash\": self.previous_hash\n",
    "        }, sort_keys=True).encode()\n",
    "        return hashlib.sha256(block_string).hexdigest()\n",
    "\n",
    "    def to_dict(self):\n",
    "        return {\n",
    "            \"index\": self.index,\n",
    "            \"timestamp (UET)\": self.timestamp,\n",
    "            \"data\": self.data,\n",
    "            \"previous_hash\": self.previous_hash,\n",
    "            \"hash\": self.hash\n",
    "        }\n",
    "\n",
    "previous_hash = \"0\" * 64  \n",
    "block_data = \"A, B, C\"  \n",
    "new_block = Block(index=0, previous_hash=previous_hash, data=block_data)\n",
    "\n",
    "blockchain = [new_block.to_dict()]\n",
    "\n",
    "import pprint\n",
    "pprint.pprint(blockchain)"
   ]
  },
  {
   "cell_type": "markdown",
   "metadata": {},
   "source": [
    "Alright first block created. What a big brain move. Now time to make an actual blockchain and validate it works."
   ]
  },
  {
   "cell_type": "code",
   "execution_count": 13,
   "metadata": {},
   "outputs": [
    {
     "name": "stdout",
     "output_type": "stream",
     "text": [
      "[{'data': 'Genesis Block',\n",
      "  'hash': '7dc2b642a41712c1106dbf8158233b353b3c6b86df1200992bd0368ec4a54a89',\n",
      "  'index': 0,\n",
      "  'previous_hash': '0000000000000000000000000000000000000000000000000000000000000000',\n",
      "  'timestamp (UET)': 1741213993.687388},\n",
      " {'data': 'A, B, C',\n",
      "  'hash': '4f9bda056fc333dd0c8e2c0fce5580010994347bc2a18af4fd169cf8731e429d',\n",
      "  'index': 1,\n",
      "  'previous_hash': '7dc2b642a41712c1106dbf8158233b353b3c6b86df1200992bd0368ec4a54a89',\n",
      "  'timestamp (UET)': 1741213993.687388},\n",
      " {'data': 'D, E, F',\n",
      "  'hash': 'a19a4b00e60443f2a3fcd2f34efa922c3e78b004e8204c1c06015d24e1b6a2cb',\n",
      "  'index': 2,\n",
      "  'previous_hash': '4f9bda056fc333dd0c8e2c0fce5580010994347bc2a18af4fd169cf8731e429d',\n",
      "  'timestamp (UET)': 1741213993.687388},\n",
      " {'data': 'G, H, I',\n",
      "  'hash': '212255b2247668ae437fff5d25df0ea9f04ca607061a0f1c05295f3a110332e9',\n",
      "  'index': 3,\n",
      "  'previous_hash': 'a19a4b00e60443f2a3fcd2f34efa922c3e78b004e8204c1c06015d24e1b6a2cb',\n",
      "  'timestamp (UET)': 1741213993.687388}]\n",
      "Blockchain is valid: True\n"
     ]
    }
   ],
   "source": [
    "import hashlib\n",
    "import json\n",
    "import time\n",
    "\n",
    "class Block:\n",
    "    def __init__(self, index, previous_hash, data):\n",
    "        self.index = index\n",
    "        self.timestamp = time.time()\n",
    "        self.data = data  # Contains letters (A, B, C)\n",
    "        self.previous_hash = previous_hash\n",
    "        self.hash = self.calculate_hash()\n",
    "\n",
    "    def calculate_hash(self):\n",
    "        block_string = json.dumps({\n",
    "            \"index\": self.index,\n",
    "            \"timestamp\": self.timestamp,\n",
    "            \"data\": self.data,\n",
    "            \"previous_hash\": self.previous_hash\n",
    "        }, sort_keys=True).encode()\n",
    "        return hashlib.sha256(block_string).hexdigest()\n",
    "\n",
    "    def to_dict(self):\n",
    "        return {\n",
    "            \"index\": self.index,\n",
    "            \"timestamp (UET)\": self.timestamp,\n",
    "            \"data\": self.data,\n",
    "            \"previous_hash\": self.previous_hash,\n",
    "            \"hash\": self.hash\n",
    "        }\n",
    "\n",
    "\n",
    "class Blockchain:\n",
    "    def __init__(self):\n",
    "        self.chain = []\n",
    "        self.create_genesis_block()\n",
    "\n",
    "    def create_genesis_block(self):\n",
    "        \"\"\"Creates the first block in the blockchain.\"\"\"\n",
    "        genesis_block = Block(index=0, previous_hash=\"0\" * 64, data=\"Genesis Block\")\n",
    "        self.chain.append(genesis_block)\n",
    "\n",
    "    def add_block(self, data):\n",
    "        \"\"\"Adds a new block to the blockchain.\"\"\"\n",
    "        previous_block = self.chain[-1]\n",
    "        new_block = Block(index=previous_block.index + 1, previous_hash=previous_block.hash, data=data)\n",
    "        self.chain.append(new_block)\n",
    "\n",
    "    def is_valid_chain(self):\n",
    "        \"\"\"Validates the blockchain by checking hash consistency.\"\"\"\n",
    "        for i in range(1, len(self.chain)):\n",
    "            current_block = self.chain[i]\n",
    "            previous_block = self.chain[i - 1]\n",
    "\n",
    "            # Validate hash linkage\n",
    "            if current_block.previous_hash != previous_block.hash:\n",
    "                return False\n",
    "\n",
    "            # Validate current block hash\n",
    "            if current_block.hash != current_block.calculate_hash():\n",
    "                return False\n",
    "\n",
    "        return True\n",
    "\n",
    "    def display_chain(self):\n",
    "        \"\"\"Displays the blockchain in a readable format.\"\"\"\n",
    "        blockchain_data = [block.to_dict() for block in self.chain]\n",
    "        import pprint\n",
    "        pprint.pprint(blockchain_data)\n",
    "\n",
    "\n",
    "# Example Usage\n",
    "blockchain = Blockchain()\n",
    "blockchain.add_block(\"A, B, C\")\n",
    "blockchain.add_block(\"D, E, F\")\n",
    "blockchain.add_block(\"G, H, I\")\n",
    "\n",
    "blockchain.display_chain()\n",
    "\n",
    "# Validate Blockchain\n",
    "print(\"Blockchain is valid:\", blockchain.is_valid_chain())\n"
   ]
  },
  {
   "cell_type": "markdown",
   "metadata": {},
   "source": [
    "Alright easy enough. Now to Parse a blockchain. Will figure this out and try to implement."
   ]
  },
  {
   "cell_type": "code",
   "execution_count": 14,
   "metadata": {},
   "outputs": [
    {
     "name": "stdout",
     "output_type": "stream",
     "text": [
      "Block 0: 7dc2b642a41712c1106dbf8158233b353b3c6b86df1200992bd0368ec4a54a89\n",
      "Block 1: 4f9bda056fc333dd0c8e2c0fce5580010994347bc2a18af4fd169cf8731e429d\n",
      "Block 2: a19a4b00e60443f2a3fcd2f34efa922c3e78b004e8204c1c06015d24e1b6a2cb\n",
      "Block 3: 212255b2247668ae437fff5d25df0ea9f04ca607061a0f1c05295f3a110332e9\n"
     ]
    }
   ],
   "source": [
    "for block in blockchain.chain:\n",
    "    print(f\"Block {block.index}: {block.hash}\")\n"
   ]
  },
  {
   "cell_type": "code",
   "execution_count": 15,
   "metadata": {},
   "outputs": [
    {
     "name": "stdout",
     "output_type": "stream",
     "text": [
      "[{'data': 'Genesis Block',\n",
      "  'hash': '7dc2b642a41712c1106dbf8158233b353b3c6b86df1200992bd0368ec4a54a89',\n",
      "  'index': 0,\n",
      "  'previous_hash': '0000000000000000000000000000000000000000000000000000000000000000',\n",
      "  'timestamp (UET)': 1741213993.687388},\n",
      " {'data': 'A, B, C',\n",
      "  'hash': '4f9bda056fc333dd0c8e2c0fce5580010994347bc2a18af4fd169cf8731e429d',\n",
      "  'index': 1,\n",
      "  'previous_hash': '7dc2b642a41712c1106dbf8158233b353b3c6b86df1200992bd0368ec4a54a89',\n",
      "  'timestamp (UET)': 1741213993.687388}]\n"
     ]
    }
   ],
   "source": [
    "search_letter = \"B\"\n",
    "matching_blocks = [block.to_dict() for block in blockchain.chain if search_letter in block.data]\n",
    "\n",
    "import pprint\n",
    "pprint.pprint(matching_blocks)\n"
   ]
  },
  {
   "cell_type": "code",
   "execution_count": 16,
   "metadata": {},
   "outputs": [
    {
     "name": "stdout",
     "output_type": "stream",
     "text": [
      "[\n",
      "    {\n",
      "        \"index\": 0,\n",
      "        \"timestamp (UET)\": 1741213993.687388,\n",
      "        \"data\": \"Genesis Block\",\n",
      "        \"previous_hash\": \"0000000000000000000000000000000000000000000000000000000000000000\",\n",
      "        \"hash\": \"7dc2b642a41712c1106dbf8158233b353b3c6b86df1200992bd0368ec4a54a89\"\n",
      "    },\n",
      "    {\n",
      "        \"index\": 1,\n",
      "        \"timestamp (UET)\": 1741213993.687388,\n",
      "        \"data\": \"A, B, C\",\n",
      "        \"previous_hash\": \"7dc2b642a41712c1106dbf8158233b353b3c6b86df1200992bd0368ec4a54a89\",\n",
      "        \"hash\": \"4f9bda056fc333dd0c8e2c0fce5580010994347bc2a18af4fd169cf8731e429d\"\n",
      "    },\n",
      "    {\n",
      "        \"index\": 2,\n",
      "        \"timestamp (UET)\": 1741213993.687388,\n",
      "        \"data\": \"D, E, F\",\n",
      "        \"previous_hash\": \"4f9bda056fc333dd0c8e2c0fce5580010994347bc2a18af4fd169cf8731e429d\",\n",
      "        \"hash\": \"a19a4b00e60443f2a3fcd2f34efa922c3e78b004e8204c1c06015d24e1b6a2cb\"\n",
      "    },\n",
      "    {\n",
      "        \"index\": 3,\n",
      "        \"timestamp (UET)\": 1741213993.687388,\n",
      "        \"data\": \"G, H, I\",\n",
      "        \"previous_hash\": \"a19a4b00e60443f2a3fcd2f34efa922c3e78b004e8204c1c06015d24e1b6a2cb\",\n",
      "        \"hash\": \"212255b2247668ae437fff5d25df0ea9f04ca607061a0f1c05295f3a110332e9\"\n",
      "    }\n",
      "]\n"
     ]
    }
   ],
   "source": [
    "blockchain_json = json.dumps([block.to_dict() for block in blockchain.chain], indent=4)\n",
    "print(blockchain_json)\n"
   ]
  },
  {
   "cell_type": "code",
   "execution_count": 17,
   "metadata": {},
   "outputs": [
    {
     "name": "stdout",
     "output_type": "stream",
     "text": [
      "0 7dc2b642a41712c1106dbf8158233b353b3c6b86df1200992bd0368ec4a54a89\n",
      "1 4f9bda056fc333dd0c8e2c0fce5580010994347bc2a18af4fd169cf8731e429d\n",
      "2 a19a4b00e60443f2a3fcd2f34efa922c3e78b004e8204c1c06015d24e1b6a2cb\n",
      "3 212255b2247668ae437fff5d25df0ea9f04ca607061a0f1c05295f3a110332e9\n"
     ]
    }
   ],
   "source": [
    "blockchain_data = json.loads(blockchain_json)\n",
    "for block in blockchain_data:\n",
    "    print(block[\"index\"], block[\"hash\"])\n"
   ]
  },
  {
   "cell_type": "code",
   "execution_count": 18,
   "metadata": {},
   "outputs": [
    {
     "name": "stdout",
     "output_type": "stream",
     "text": [
      "Is blockchain valid? True\n"
     ]
    }
   ],
   "source": [
    "def validate_blockchain(blockchain):\n",
    "    for i in range(1, len(blockchain.chain)):\n",
    "        if blockchain.chain[i].previous_hash != blockchain.chain[i - 1].hash:\n",
    "            return False\n",
    "    return True\n",
    "\n",
    "print(\"Is blockchain valid?\", validate_blockchain(blockchain))\n"
   ]
  },
  {
   "cell_type": "markdown",
   "metadata": {},
   "source": [
    "Alright now that we have successfully parsed our blockchain, I will start with using sqlite3 and see if I can actually store my blockchain data into a SQL Servser style environment"
   ]
  },
  {
   "cell_type": "code",
   "execution_count": 19,
   "metadata": {},
   "outputs": [
    {
     "name": "stdout",
     "output_type": "stream",
     "text": [
      "Requirement already satisfied: psycopg2 in c:\\users\\andre\\appdata\\local\\packages\\pythonsoftwarefoundation.python.3.11_qbz5n2kfra8p0\\localcache\\local-packages\\python311\\site-packages (2.9.10)\n"
     ]
    },
    {
     "name": "stderr",
     "output_type": "stream",
     "text": [
      "WARNING: Ignoring invalid distribution ~yproj (C:\\Users\\andre\\AppData\\Local\\Packages\\PythonSoftwareFoundation.Python.3.11_qbz5n2kfra8p0\\LocalCache\\local-packages\\Python311\\site-packages)\n",
      "WARNING: Ignoring invalid distribution ~yproj (C:\\Users\\andre\\AppData\\Local\\Packages\\PythonSoftwareFoundation.Python.3.11_qbz5n2kfra8p0\\LocalCache\\local-packages\\Python311\\site-packages)\n",
      "WARNING: Ignoring invalid distribution ~yproj (C:\\Users\\andre\\AppData\\Local\\Packages\\PythonSoftwareFoundation.Python.3.11_qbz5n2kfra8p0\\LocalCache\\local-packages\\Python311\\site-packages)\n",
      "WARNING: Ignoring invalid distribution ~yproj (C:\\Users\\andre\\AppData\\Local\\Packages\\PythonSoftwareFoundation.Python.3.11_qbz5n2kfra8p0\\LocalCache\\local-packages\\Python311\\site-packages)\n",
      "\n",
      "[notice] A new release of pip is available: 24.2 -> 25.0.1\n",
      "[notice] To update, run: C:\\Users\\andre\\AppData\\Local\\Microsoft\\WindowsApps\\PythonSoftwareFoundation.Python.3.11_qbz5n2kfra8p0\\python.exe -m pip install --upgrade pip\n"
     ]
    }
   ],
   "source": [
    "!pip install psycopg2"
   ]
  },
  {
   "cell_type": "code",
   "execution_count": 20,
   "metadata": {},
   "outputs": [
    {
     "ename": "OperationalError",
     "evalue": "database is locked",
     "output_type": "error",
     "traceback": [
      "\u001b[1;31m---------------------------------------------------------------------------\u001b[0m",
      "\u001b[1;31mOperationalError\u001b[0m                          Traceback (most recent call last)",
      "Cell \u001b[1;32mIn[20], line 102\u001b[0m\n\u001b[0;32m    100\u001b[0m \u001b[38;5;66;03m# Store blockchain in SQL\u001b[39;00m\n\u001b[0;32m    101\u001b[0m \u001b[38;5;28;01mfor\u001b[39;00m block \u001b[38;5;129;01min\u001b[39;00m blockchain\u001b[38;5;241m.\u001b[39mchain:\n\u001b[1;32m--> 102\u001b[0m     \u001b[43mstore_block\u001b[49m\u001b[43m(\u001b[49m\u001b[43mblock\u001b[49m\u001b[43m)\u001b[49m\n\u001b[0;32m    104\u001b[0m \u001b[38;5;66;03m# Display stored blockchain data from database\u001b[39;00m\n\u001b[0;32m    105\u001b[0m \u001b[38;5;28mprint\u001b[39m(\u001b[38;5;124m\"\u001b[39m\u001b[38;5;130;01m\\n\u001b[39;00m\u001b[38;5;124mBlockchain from Database:\u001b[39m\u001b[38;5;124m\"\u001b[39m)\n",
      "Cell \u001b[1;32mIn[20], line 74\u001b[0m, in \u001b[0;36mstore_block\u001b[1;34m(block)\u001b[0m\n\u001b[0;32m     72\u001b[0m \u001b[38;5;28;01mwith\u001b[39;00m sqlite3\u001b[38;5;241m.\u001b[39mconnect(\u001b[38;5;124m\"\u001b[39m\u001b[38;5;124mblockchain.db\u001b[39m\u001b[38;5;124m\"\u001b[39m) \u001b[38;5;28;01mas\u001b[39;00m conn:\n\u001b[0;32m     73\u001b[0m     cursor \u001b[38;5;241m=\u001b[39m conn\u001b[38;5;241m.\u001b[39mcursor()\n\u001b[1;32m---> 74\u001b[0m     \u001b[43mcursor\u001b[49m\u001b[38;5;241;43m.\u001b[39;49m\u001b[43mexecute\u001b[49m\u001b[43m(\u001b[49m\u001b[38;5;124;43m\"\"\"\u001b[39;49m\n\u001b[0;32m     75\u001b[0m \u001b[38;5;124;43m        INSERT INTO blocks (block_index, timestamp, data, previous_hash, hash)\u001b[39;49m\n\u001b[0;32m     76\u001b[0m \u001b[38;5;124;43m        VALUES (?, ?, ?, ?, ?)\u001b[39;49m\n\u001b[0;32m     77\u001b[0m \u001b[38;5;124;43m    \u001b[39;49m\u001b[38;5;124;43m\"\"\"\u001b[39;49m\u001b[43m,\u001b[49m\u001b[43m \u001b[49m\u001b[43m(\u001b[49m\u001b[43mblock\u001b[49m\u001b[38;5;241;43m.\u001b[39;49m\u001b[43mindex\u001b[49m\u001b[43m,\u001b[49m\u001b[43m \u001b[49m\u001b[43mblock\u001b[49m\u001b[38;5;241;43m.\u001b[39;49m\u001b[43mtimestamp\u001b[49m\u001b[43m,\u001b[49m\u001b[43m \u001b[49m\u001b[43mblock\u001b[49m\u001b[38;5;241;43m.\u001b[39;49m\u001b[43mdata\u001b[49m\u001b[43m,\u001b[49m\u001b[43m \u001b[49m\u001b[43mblock\u001b[49m\u001b[38;5;241;43m.\u001b[39;49m\u001b[43mprevious_hash\u001b[49m\u001b[43m,\u001b[49m\u001b[43m \u001b[49m\u001b[43mblock\u001b[49m\u001b[38;5;241;43m.\u001b[39;49m\u001b[43mhash\u001b[49m\u001b[43m)\u001b[49m\u001b[43m)\u001b[49m\n\u001b[0;32m     78\u001b[0m     conn\u001b[38;5;241m.\u001b[39mcommit()\n",
      "\u001b[1;31mOperationalError\u001b[0m: database is locked"
     ]
    }
   ],
   "source": [
    "import hashlib\n",
    "import json\n",
    "import time\n",
    "import sqlite3\n",
    "\n",
    "class Block:\n",
    "    def __init__(self, index, previous_hash, data):\n",
    "        self.index = index\n",
    "        self.timestamp = time.time()\n",
    "        self.data = data\n",
    "        self.previous_hash = previous_hash\n",
    "        self.hash = self.calculate_hash()\n",
    "\n",
    "    def calculate_hash(self):\n",
    "        block_string = json.dumps({\n",
    "            \"index\": self.index,\n",
    "            \"timestamp\": self.timestamp,\n",
    "            \"data\": self.data,\n",
    "            \"previous_hash\": self.previous_hash\n",
    "        }, sort_keys=True).encode()\n",
    "        return hashlib.sha256(block_string).hexdigest()\n",
    "\n",
    "    def to_dict(self):\n",
    "        return {\n",
    "            \"block_index\": self.index,  # Changed index to block_index\n",
    "            \"timestamp\": self.timestamp,\n",
    "            \"data\": self.data,\n",
    "            \"previous_hash\": self.previous_hash,\n",
    "            \"hash\": self.hash\n",
    "        }\n",
    "\n",
    "\n",
    "class Blockchain:\n",
    "    def __init__(self):\n",
    "        self.chain = []\n",
    "        self.create_genesis_block()\n",
    "\n",
    "    def create_genesis_block(self):\n",
    "        genesis_block = Block(index=0, previous_hash=\"0\" * 64, data=\"Genesis Block\")\n",
    "        self.chain.append(genesis_block)\n",
    "\n",
    "    def add_block(self, data):\n",
    "        previous_block = self.chain[-1]\n",
    "        new_block = Block(index=previous_block.index + 1, previous_hash=previous_block.hash, data=data)\n",
    "        self.chain.append(new_block)\n",
    "\n",
    "    def display_chain(self):\n",
    "        for block in self.chain:\n",
    "            print(f\"Index: {block.index}, Data: {block.data}, Hash: {block.hash}, Previous Hash: {block.previous_hash}\")\n",
    "\n",
    "\n",
    "# Database Functions\n",
    "def create_database():\n",
    "    \"\"\"Creates a SQLite database and a table for storing blockchain data.\"\"\"\n",
    "    conn = sqlite3.connect(\"blockchain.db\")\n",
    "    cursor = conn.cursor()\n",
    "    cursor.execute(\"\"\"\n",
    "        CREATE TABLE IF NOT EXISTS blocks (\n",
    "            block_index INTEGER PRIMARY KEY,\n",
    "            timestamp REAL,\n",
    "            data TEXT,\n",
    "            previous_hash TEXT,\n",
    "            hash TEXT UNIQUE\n",
    "        )\n",
    "    \"\"\")\n",
    "    conn.commit()\n",
    "    conn.close()\n",
    "\n",
    "\n",
    "def store_block(block):\n",
    "    \"\"\"Stores a block in the database.\"\"\"\n",
    "    with sqlite3.connect(\"blockchain.db\") as conn:\n",
    "        cursor = conn.cursor()\n",
    "        cursor.execute(\"\"\"\n",
    "            INSERT INTO blocks (block_index, timestamp, data, previous_hash, hash)\n",
    "            VALUES (?, ?, ?, ?, ?)\n",
    "        \"\"\", (block.index, block.timestamp, block.data, block.previous_hash, block.hash))\n",
    "        conn.commit()  # Ensure changes are committed\n",
    "\n",
    "\n",
    "\n",
    "def display_database():\n",
    "    \"\"\"Displays all blocks stored in the SQL database.\"\"\"\n",
    "    with sqlite3.connect(\"blockchain.db\") as conn:\n",
    "        cursor = conn.cursor()\n",
    "        cursor.execute(\"SELECT * FROM blocks ORDER BY block_index ASC\")\n",
    "        blocks = cursor.fetchall()\n",
    "\n",
    "    for block in blocks:\n",
    "        print(f\"Index: {block[0]}, Data: {block[2]}, Hash: {block[4]}, Previous Hash: {block[3]}\")\n",
    "\n",
    "\n",
    "# Example Usage\n",
    "create_database()\n",
    "blockchain = Blockchain()\n",
    "blockchain.add_block(\"A, B, C\")\n",
    "blockchain.add_block(\"D, E, F\")\n",
    "blockchain.add_block(\"G, H, I\")\n",
    "\n",
    "# Store blockchain in SQL\n",
    "for block in blockchain.chain:\n",
    "    store_block(block)\n",
    "\n",
    "# Display stored blockchain data from database\n",
    "print(\"\\nBlockchain from Database:\")\n",
    "display_database()\n"
   ]
  }
 ],
 "metadata": {
  "kernelspec": {
   "display_name": "Python 3",
   "language": "python",
   "name": "python3"
  },
  "language_info": {
   "codemirror_mode": {
    "name": "ipython",
    "version": 3
   },
   "file_extension": ".py",
   "mimetype": "text/x-python",
   "name": "python",
   "nbconvert_exporter": "python",
   "pygments_lexer": "ipython3",
   "version": "3.11.9"
  }
 },
 "nbformat": 4,
 "nbformat_minor": 2
}
