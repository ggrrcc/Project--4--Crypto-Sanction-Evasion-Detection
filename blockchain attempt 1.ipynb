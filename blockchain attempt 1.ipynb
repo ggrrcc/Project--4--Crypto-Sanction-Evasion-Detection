{
 "cells": [
  {
   "cell_type": "code",
   "execution_count": 1,
   "metadata": {},
   "outputs": [
    {
     "name": "stdout",
     "output_type": "stream",
     "text": [
      "[{'data': 'A, B, C',\n",
      "  'hash': '61d7053301a6044c59109b4848856742eb0f010305ac297786c013f395a50a4d',\n",
      "  'index': 0,\n",
      "  'previous_hash': '0000000000000000000000000000000000000000000000000000000000000000',\n",
      "  'timestamp (UET)': 1741336564.499747}]\n"
     ]
    }
   ],
   "source": [
    "import hashlib\n",
    "import json\n",
    "import time\n",
    "\n",
    "class Block:\n",
    "    def __init__(self, index, previous_hash, data):\n",
    "        self.index = index\n",
    "        self.timestamp = time.time()\n",
    "        self.data = data  # Contains letters (A, B, C)\n",
    "        self.previous_hash = previous_hash\n",
    "        self.hash = self.calculate_hash()\n",
    "\n",
    "    def calculate_hash(self):\n",
    "        block_string = json.dumps({\n",
    "            \"index\": self.index,\n",
    "            \"timestamp\": self.timestamp,\n",
    "            \"data\": self.data,\n",
    "            \"previous_hash\": self.previous_hash\n",
    "        }, sort_keys=True).encode()\n",
    "        return hashlib.sha256(block_string).hexdigest()\n",
    "\n",
    "    def to_dict(self):\n",
    "        return {\n",
    "            \"index\": self.index,\n",
    "            \"timestamp (UET)\": self.timestamp,\n",
    "            \"data\": self.data,\n",
    "            \"previous_hash\": self.previous_hash,\n",
    "            \"hash\": self.hash\n",
    "        }\n",
    "\n",
    "previous_hash = \"0\" * 64  \n",
    "block_data = \"A, B, C\"  \n",
    "new_block = Block(index=0, previous_hash=previous_hash, data=block_data)\n",
    "\n",
    "blockchain = [new_block.to_dict()]\n",
    "\n",
    "import pprint\n",
    "pprint.pprint(blockchain)"
   ]
  },
  {
   "cell_type": "markdown",
   "metadata": {},
   "source": [
    "Alright first block created. What a big brain move. Now time to make an actual blockchain and validate it works."
   ]
  },
  {
   "cell_type": "code",
   "execution_count": 2,
   "metadata": {},
   "outputs": [
    {
     "name": "stdout",
     "output_type": "stream",
     "text": [
      "[{'data': 'Genesis Block',\n",
      "  'hash': '64301b8e956d598a1ff3e2a28e66d37c2ad498e91566d59327a5f2ddaa33a244',\n",
      "  'index': 0,\n",
      "  'previous_hash': '0000000000000000000000000000000000000000000000000000000000000000',\n",
      "  'timestamp (UET)': 1741336564.5068834},\n",
      " {'data': 'A, B, C',\n",
      "  'hash': 'bfe63ebffc76dcbb212594b34551d827b5baa0c5e544fb3dd9e4e2a0fe60f973',\n",
      "  'index': 1,\n",
      "  'previous_hash': '64301b8e956d598a1ff3e2a28e66d37c2ad498e91566d59327a5f2ddaa33a244',\n",
      "  'timestamp (UET)': 1741336564.5069153},\n",
      " {'data': 'D, E, F',\n",
      "  'hash': '2f007a548c90fd0319f9e50addbb201d7d5f685b3d1678894dda26e1978780f5',\n",
      "  'index': 2,\n",
      "  'previous_hash': 'bfe63ebffc76dcbb212594b34551d827b5baa0c5e544fb3dd9e4e2a0fe60f973',\n",
      "  'timestamp (UET)': 1741336564.506943},\n",
      " {'data': 'G, H, I',\n",
      "  'hash': '02a25150bb7fff3149011311fc6ce817767196415e3cd1bd8fa5599fc62f846c',\n",
      "  'index': 3,\n",
      "  'previous_hash': '2f007a548c90fd0319f9e50addbb201d7d5f685b3d1678894dda26e1978780f5',\n",
      "  'timestamp (UET)': 1741336564.5069609}]\n",
      "Blockchain is valid: True\n"
     ]
    }
   ],
   "source": [
    "import hashlib\n",
    "import json\n",
    "import time\n",
    "\n",
    "class Block:\n",
    "    def __init__(self, index, previous_hash, data):\n",
    "        self.index = index\n",
    "        self.timestamp = time.time()\n",
    "        self.data = data  # Contains letters (A, B, C)\n",
    "        self.previous_hash = previous_hash\n",
    "        self.hash = self.calculate_hash()\n",
    "\n",
    "    def calculate_hash(self):\n",
    "        block_string = json.dumps({\n",
    "            \"index\": self.index,\n",
    "            \"timestamp\": self.timestamp,\n",
    "            \"data\": self.data,\n",
    "            \"previous_hash\": self.previous_hash\n",
    "        }, sort_keys=True).encode()\n",
    "        return hashlib.sha256(block_string).hexdigest()\n",
    "\n",
    "    def to_dict(self):\n",
    "        return {\n",
    "            \"index\": self.index,\n",
    "            \"timestamp (UET)\": self.timestamp,\n",
    "            \"data\": self.data,\n",
    "            \"previous_hash\": self.previous_hash,\n",
    "            \"hash\": self.hash\n",
    "        }\n",
    "\n",
    "\n",
    "class Blockchain:\n",
    "    def __init__(self):\n",
    "        self.chain = []\n",
    "        self.create_genesis_block()\n",
    "\n",
    "    def create_genesis_block(self):\n",
    "        \"\"\"Creates the first block in the blockchain.\"\"\"\n",
    "        genesis_block = Block(index=0, previous_hash=\"0\" * 64, data=\"Genesis Block\")\n",
    "        self.chain.append(genesis_block)\n",
    "\n",
    "    def add_block(self, data):\n",
    "        \"\"\"Adds a new block to the blockchain.\"\"\"\n",
    "        previous_block = self.chain[-1]\n",
    "        new_block = Block(index=previous_block.index + 1, previous_hash=previous_block.hash, data=data)\n",
    "        self.chain.append(new_block)\n",
    "\n",
    "    def is_valid_chain(self):\n",
    "        \"\"\"Validates the blockchain by checking hash consistency.\"\"\"\n",
    "        for i in range(1, len(self.chain)):\n",
    "            current_block = self.chain[i]\n",
    "            previous_block = self.chain[i - 1]\n",
    "\n",
    "            # Validate hash linkage\n",
    "            if current_block.previous_hash != previous_block.hash:\n",
    "                return False\n",
    "\n",
    "            # Validate current block hash\n",
    "            if current_block.hash != current_block.calculate_hash():\n",
    "                return False\n",
    "\n",
    "        return True\n",
    "\n",
    "    def display_chain(self):\n",
    "        \"\"\"Displays the blockchain in a readable format.\"\"\"\n",
    "        blockchain_data = [block.to_dict() for block in self.chain]\n",
    "        import pprint\n",
    "        pprint.pprint(blockchain_data)\n",
    "\n",
    "\n",
    "# Example Usage\n",
    "blockchain = Blockchain()\n",
    "blockchain.add_block(\"A, B, C\")\n",
    "blockchain.add_block(\"D, E, F\")\n",
    "blockchain.add_block(\"G, H, I\")\n",
    "\n",
    "blockchain.display_chain()\n",
    "\n",
    "# Validate Blockchain\n",
    "print(\"Blockchain is valid:\", blockchain.is_valid_chain())\n"
   ]
  },
  {
   "cell_type": "markdown",
   "metadata": {},
   "source": [
    "Alright easy enough. Now to Parse a blockchain. Will figure this out and try to implement."
   ]
  },
  {
   "cell_type": "code",
   "execution_count": 3,
   "metadata": {},
   "outputs": [
    {
     "name": "stdout",
     "output_type": "stream",
     "text": [
      "Block 0: 64301b8e956d598a1ff3e2a28e66d37c2ad498e91566d59327a5f2ddaa33a244\n",
      "Block 1: bfe63ebffc76dcbb212594b34551d827b5baa0c5e544fb3dd9e4e2a0fe60f973\n",
      "Block 2: 2f007a548c90fd0319f9e50addbb201d7d5f685b3d1678894dda26e1978780f5\n",
      "Block 3: 02a25150bb7fff3149011311fc6ce817767196415e3cd1bd8fa5599fc62f846c\n"
     ]
    }
   ],
   "source": [
    "for block in blockchain.chain:\n",
    "    print(f\"Block {block.index}: {block.hash}\")\n"
   ]
  },
  {
   "cell_type": "code",
   "execution_count": 4,
   "metadata": {},
   "outputs": [
    {
     "name": "stdout",
     "output_type": "stream",
     "text": [
      "[{'data': 'Genesis Block',\n",
      "  'hash': '64301b8e956d598a1ff3e2a28e66d37c2ad498e91566d59327a5f2ddaa33a244',\n",
      "  'index': 0,\n",
      "  'previous_hash': '0000000000000000000000000000000000000000000000000000000000000000',\n",
      "  'timestamp (UET)': 1741336564.5068834},\n",
      " {'data': 'A, B, C',\n",
      "  'hash': 'bfe63ebffc76dcbb212594b34551d827b5baa0c5e544fb3dd9e4e2a0fe60f973',\n",
      "  'index': 1,\n",
      "  'previous_hash': '64301b8e956d598a1ff3e2a28e66d37c2ad498e91566d59327a5f2ddaa33a244',\n",
      "  'timestamp (UET)': 1741336564.5069153}]\n"
     ]
    }
   ],
   "source": [
    "search_letter = \"B\"\n",
    "matching_blocks = [block.to_dict() for block in blockchain.chain if search_letter in block.data]\n",
    "\n",
    "import pprint\n",
    "pprint.pprint(matching_blocks)\n"
   ]
  },
  {
   "cell_type": "code",
   "execution_count": 5,
   "metadata": {},
   "outputs": [
    {
     "name": "stdout",
     "output_type": "stream",
     "text": [
      "[\n",
      "    {\n",
      "        \"index\": 0,\n",
      "        \"timestamp (UET)\": 1741336564.5068834,\n",
      "        \"data\": \"Genesis Block\",\n",
      "        \"previous_hash\": \"0000000000000000000000000000000000000000000000000000000000000000\",\n",
      "        \"hash\": \"64301b8e956d598a1ff3e2a28e66d37c2ad498e91566d59327a5f2ddaa33a244\"\n",
      "    },\n",
      "    {\n",
      "        \"index\": 1,\n",
      "        \"timestamp (UET)\": 1741336564.5069153,\n",
      "        \"data\": \"A, B, C\",\n",
      "        \"previous_hash\": \"64301b8e956d598a1ff3e2a28e66d37c2ad498e91566d59327a5f2ddaa33a244\",\n",
      "        \"hash\": \"bfe63ebffc76dcbb212594b34551d827b5baa0c5e544fb3dd9e4e2a0fe60f973\"\n",
      "    },\n",
      "    {\n",
      "        \"index\": 2,\n",
      "        \"timestamp (UET)\": 1741336564.506943,\n",
      "        \"data\": \"D, E, F\",\n",
      "        \"previous_hash\": \"bfe63ebffc76dcbb212594b34551d827b5baa0c5e544fb3dd9e4e2a0fe60f973\",\n",
      "        \"hash\": \"2f007a548c90fd0319f9e50addbb201d7d5f685b3d1678894dda26e1978780f5\"\n",
      "    },\n",
      "    {\n",
      "        \"index\": 3,\n",
      "        \"timestamp (UET)\": 1741336564.5069609,\n",
      "        \"data\": \"G, H, I\",\n",
      "        \"previous_hash\": \"2f007a548c90fd0319f9e50addbb201d7d5f685b3d1678894dda26e1978780f5\",\n",
      "        \"hash\": \"02a25150bb7fff3149011311fc6ce817767196415e3cd1bd8fa5599fc62f846c\"\n",
      "    }\n",
      "]\n"
     ]
    }
   ],
   "source": [
    "blockchain_json = json.dumps([block.to_dict() for block in blockchain.chain], indent=4)\n",
    "print(blockchain_json)\n"
   ]
  },
  {
   "cell_type": "code",
   "execution_count": 6,
   "metadata": {},
   "outputs": [
    {
     "name": "stdout",
     "output_type": "stream",
     "text": [
      "0 64301b8e956d598a1ff3e2a28e66d37c2ad498e91566d59327a5f2ddaa33a244\n",
      "1 bfe63ebffc76dcbb212594b34551d827b5baa0c5e544fb3dd9e4e2a0fe60f973\n",
      "2 2f007a548c90fd0319f9e50addbb201d7d5f685b3d1678894dda26e1978780f5\n",
      "3 02a25150bb7fff3149011311fc6ce817767196415e3cd1bd8fa5599fc62f846c\n"
     ]
    }
   ],
   "source": [
    "blockchain_data = json.loads(blockchain_json)\n",
    "for block in blockchain_data:\n",
    "    print(block[\"index\"], block[\"hash\"])\n"
   ]
  },
  {
   "cell_type": "code",
   "execution_count": 7,
   "metadata": {},
   "outputs": [
    {
     "name": "stdout",
     "output_type": "stream",
     "text": [
      "Is blockchain valid? True\n"
     ]
    }
   ],
   "source": [
    "def validate_blockchain(blockchain):\n",
    "    for i in range(1, len(blockchain.chain)):\n",
    "        if blockchain.chain[i].previous_hash != blockchain.chain[i - 1].hash:\n",
    "            return False\n",
    "    return True\n",
    "\n",
    "print(\"Is blockchain valid?\", validate_blockchain(blockchain))\n"
   ]
  },
  {
   "cell_type": "markdown",
   "metadata": {},
   "source": [
    "Alright now that we have successfully parsed our blockchain, I will start with using sqlite3 and see if I can actually store my blockchain data into a SQL Servser style environment"
   ]
  },
  {
   "cell_type": "code",
   "execution_count": 9,
   "metadata": {},
   "outputs": [
    {
     "name": "stdout",
     "output_type": "stream",
     "text": [
      "\n",
      "Blockchain from Database:\n",
      "Index: 0, Data: Genesis Block, Hash: 224d3b71e467521b977a6fc1a69d6739bf8fa979d73d11f425d15ff0a36a25a1, Previous Hash: 0000000000000000000000000000000000000000000000000000000000000000\n",
      "Index: 1, Data: A, B, C, Hash: 733faca7a6f6254636edb1b289206072b947459c1d6765d075b756d04f53c1e1, Previous Hash: 224d3b71e467521b977a6fc1a69d6739bf8fa979d73d11f425d15ff0a36a25a1\n",
      "Index: 2, Data: D, E, F, Hash: 0849ae187a84b5ac3265b1557d47fdb1092593289205dc49f8d0d97aecc2e78e, Previous Hash: 733faca7a6f6254636edb1b289206072b947459c1d6765d075b756d04f53c1e1\n",
      "Index: 3, Data: G, H, I, Hash: a133326fa825e7e9a9c677d786e9d3aca41f9eee8dbea6c7fcca30aeb3f4eec1, Previous Hash: 0849ae187a84b5ac3265b1557d47fdb1092593289205dc49f8d0d97aecc2e78e\n"
     ]
    }
   ],
   "source": [
    "import hashlib\n",
    "import json\n",
    "import time\n",
    "import sqlite3\n",
    "\n",
    "class Block:\n",
    "    def __init__(self, index, previous_hash, data):\n",
    "        self.index = index\n",
    "        self.timestamp = time.time()\n",
    "        self.data = data\n",
    "        self.previous_hash = previous_hash\n",
    "        self.hash = self.calculate_hash()\n",
    "\n",
    "    def calculate_hash(self):\n",
    "        block_string = json.dumps({\n",
    "            \"index\": self.index,\n",
    "            \"timestamp\": self.timestamp,\n",
    "            \"data\": self.data,\n",
    "            \"previous_hash\": self.previous_hash\n",
    "        }, sort_keys=True).encode()\n",
    "        return hashlib.sha256(block_string).hexdigest()\n",
    "\n",
    "    def to_dict(self):\n",
    "        return {\n",
    "            \"block_index\": self.index,  # Changed index to block_index\n",
    "            \"timestamp\": self.timestamp,\n",
    "            \"data\": self.data,\n",
    "            \"previous_hash\": self.previous_hash,\n",
    "            \"hash\": self.hash\n",
    "        }\n",
    "\n",
    "\n",
    "class Blockchain:\n",
    "    def __init__(self):\n",
    "        self.chain = []\n",
    "        self.create_genesis_block()\n",
    "\n",
    "    def create_genesis_block(self):\n",
    "        genesis_block = Block(index=0, previous_hash=\"0\" * 64, data=\"Genesis Block\")\n",
    "        self.chain.append(genesis_block)\n",
    "\n",
    "    def add_block(self, data):\n",
    "        previous_block = self.chain[-1]\n",
    "        new_block = Block(index=previous_block.index + 1, previous_hash=previous_block.hash, data=data)\n",
    "        self.chain.append(new_block)\n",
    "\n",
    "    def display_chain(self):\n",
    "        for block in self.chain:\n",
    "            print(f\"Index: {block.index}, Data: {block.data}, Hash: {block.hash}, Previous Hash: {block.previous_hash}\")\n",
    "\n",
    "\n",
    "# Database Functions\n",
    "def create_database():\n",
    "    \"\"\"Creates a SQLite database and a table for storing blockchain data.\"\"\"\n",
    "    conn = sqlite3.connect(\"blockchain.db\")\n",
    "    cursor = conn.cursor()\n",
    "    cursor.execute(\"\"\"\n",
    "        CREATE TABLE IF NOT EXISTS blocks (\n",
    "            block_index INTEGER PRIMARY KEY,\n",
    "            timestamp REAL,\n",
    "            data TEXT,\n",
    "            previous_hash TEXT,\n",
    "            hash TEXT UNIQUE\n",
    "        )\n",
    "    \"\"\")\n",
    "    conn.commit()\n",
    "    conn.close()\n",
    "\n",
    "\n",
    "def store_block(block):\n",
    "    \"\"\"Stores a block in the database.\"\"\"\n",
    "    with sqlite3.connect(\"blockchain.db\") as conn:\n",
    "        cursor = conn.cursor()\n",
    "        cursor.execute(\"\"\"\n",
    "            INSERT INTO blocks (block_index, timestamp, data, previous_hash, hash)\n",
    "            VALUES (?, ?, ?, ?, ?)\n",
    "        \"\"\", (block.index, block.timestamp, block.data, block.previous_hash, block.hash))\n",
    "        conn.commit()  # Ensure changes are committed\n",
    "\n",
    "\n",
    "\n",
    "def display_database():\n",
    "    \"\"\"Displays all blocks stored in the SQL database.\"\"\"\n",
    "    with sqlite3.connect(\"blockchain.db\") as conn:\n",
    "        cursor = conn.cursor()\n",
    "        cursor.execute(\"SELECT * FROM blocks ORDER BY block_index ASC\")\n",
    "        blocks = cursor.fetchall()\n",
    "\n",
    "    for block in blocks:\n",
    "        print(f\"Index: {block[0]}, Data: {block[2]}, Hash: {block[4]}, Previous Hash: {block[3]}\")\n",
    "\n",
    "\n",
    "# Example Usage\n",
    "create_database()\n",
    "blockchain = Blockchain()\n",
    "blockchain.add_block(\"A, B, C\")\n",
    "blockchain.add_block(\"D, E, F\")\n",
    "blockchain.add_block(\"G, H, I\")\n",
    "\n",
    "# Store blockchain in SQL\n",
    "for block in blockchain.chain:\n",
    "    store_block(block)\n",
    "\n",
    "# Display stored blockchain data from database\n",
    "print(\"\\nBlockchain from Database:\")\n",
    "display_database()\n"
   ]
  }
 ],
 "metadata": {
  "kernelspec": {
   "display_name": ".venv",
   "language": "python",
   "name": "python3"
  },
  "language_info": {
   "codemirror_mode": {
    "name": "ipython",
    "version": 3
   },
   "file_extension": ".py",
   "mimetype": "text/x-python",
   "name": "python",
   "nbconvert_exporter": "python",
   "pygments_lexer": "ipython3",
   "version": "3.12.4"
  }
 },
 "nbformat": 4,
 "nbformat_minor": 2
}
