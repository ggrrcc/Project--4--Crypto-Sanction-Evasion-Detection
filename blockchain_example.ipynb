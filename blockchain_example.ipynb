{
 "cells": [
  {
   "cell_type": "code",
   "execution_count": 2,
   "metadata": {},
   "outputs": [],
   "source": [
    "import string\n",
    "import random"
   ]
  },
  {
   "cell_type": "code",
   "execution_count": 3,
   "metadata": {},
   "outputs": [],
   "source": [
    "class Block:\n",
    "    def __init__(self, body = [None], prev_id = None):\n",
    "        self.header = [prev_id, self.gen_id()]\n",
    "        self.body = body\n",
    "\n",
    "    def gen_id(self):\n",
    "        return ''.join(random.choices(string.ascii_letters + string.digits, k=10))"
   ]
  },
  {
   "cell_type": "code",
   "execution_count": 4,
   "metadata": {},
   "outputs": [
    {
     "name": "stdout",
     "output_type": "stream",
     "text": [
      "[None, 'P3FMDzzBhJ']\n"
     ]
    }
   ],
   "source": [
    "a = Block(['yee'])\n",
    "print(a.header)"
   ]
  },
  {
   "cell_type": "code",
   "execution_count": 6,
   "metadata": {},
   "outputs": [
    {
     "name": "stdout",
     "output_type": "stream",
     "text": [
      "['P3FMDzzBhJ', 'FtKBr53oEf']\n"
     ]
    }
   ],
   "source": [
    "b = Block(['amogus', 'morbius'], a.header[1])\n",
    "print(b.header)"
   ]
  },
  {
   "cell_type": "code",
   "execution_count": null,
   "metadata": {},
   "outputs": [],
   "source": [
    "import hashlib\n",
    "import time\n",
    "\n",
    "# Define the Block class\n",
    "class Block:\n",
    "    def __init__(self, index, previous_hash, timestamp, data, hash):\n",
    "        self.index = index\n",
    "        self.previous_hash = previous_hash\n",
    "        self.timestamp = timestamp\n",
    "        self.data = data\n",
    "        self.hash = hash\n",
    "\n",
    "# Define the Blockchain class\n",
    "class Blockchain:\n",
    "    def __init__(self):\n",
    "        self.chain = []\n",
    "        self.create_genesis_block()\n",
    "\n",
    "    # Create the first block, called the genesis block\n",
    "    def create_genesis_block(self):\n",
    "        # The genesis block has no previous hash\n",
    "        genesis_block = Block(0, \"0\", int(time.time()), \"Genesis Block\", self.calculate_hash(0, \"0\", int(time.time()), \"Genesis Block\"))\n",
    "        self.chain.append(genesis_block)\n",
    "\n",
    "    # Add a new block to the chain\n",
    "    def add_block(self, data):\n",
    "        previous_block = self.chain[-1]\n",
    "        index = previous_block.index + 1\n",
    "        timestamp = int(time.time())\n",
    "        hash = self.calculate_hash(index, previous_block.hash, timestamp, data)\n",
    "        new_block = Block(index, previous_block.hash, timestamp, data, hash)\n",
    "        self.chain.append(new_block)\n",
    "\n",
    "    # Calculate hash of a block\n",
    "    def calculate_hash(self, index, previous_hash, timestamp, data):\n",
    "        block_string = f\"{index}{previous_hash}{timestamp}{data}\"\n",
    "        return hashlib.sha256(block_string.encode()).hexdigest()\n",
    "\n",
    "    # Validate the blockchain\n",
    "    def is_chain_valid(self):\n",
    "        for i in range(1, len(self.chain)):\n",
    "            current_block = self.chain[i]\n",
    "            previous_block = self.chain[i - 1]\n",
    "\n",
    "            # Check if the current block's hash is correct\n",
    "            if current_block.hash != self.calculate_hash(current_block.index, current_block.previous_hash, current_block.timestamp, current_block.data):\n",
    "                return False\n",
    "\n",
    "            # Check if the previous block's hash matches the current block's previous hash\n",
    "            if current_block.previous_hash != previous_block.hash:\n",
    "                return False\n",
    "\n",
    "        return True\n",
    "\n",
    "    # Print the blockchain\n",
    "    def print_chain(self):\n",
    "        for block in self.chain:\n",
    "            print(f\"Block #{block.index}\")\n",
    "            print(f\"Hash: {block.hash}\")\n",
    "            print(f\"Previous Hash: {block.previous_hash}\")\n",
    "            print(f\"Timestamp: {block.timestamp}\")\n",
    "            print(f\"Data: {block.data}\")\n",
    "            print(\"-\" * 50)\n",
    "\n",
    "\n",
    "# Example usage\n",
    "blockchain = Blockchain()\n",
    "blockchain.add_block(\"Block 1 data\")\n",
    "blockchain.add_block(\"Block 2 data\")\n",
    "\n",
    "blockchain.print_chain()\n",
    "\n",
    "# Check if the chain is valid\n",
    "print(f\"Blockchain valid: {blockchain.is_chain_valid()}\")\n"
   ]
  },
  {
   "cell_type": "markdown",
   "metadata": {},
   "source": [
    "Explanation:\n",
    "\n",
    "    Block Class: Represents a block in the blockchain. Each block stores the index, previous block's hash, timestamp, data, and its own hash.\n",
    "\n",
    "    Blockchain Class:\n",
    "        create_genesis_block(): Creates the first block, called the genesis block.\n",
    "        add_block(): Adds a new block to the blockchain.\n",
    "        calculate_hash(): Generates a SHA-256 hash for a given block.\n",
    "        is_chain_valid(): Checks if the blockchain is valid by ensuring all blocks have correct hashes and link properly to the previous block.\n",
    "        print_chain(): Prints out the details of each block in the blockchain.\n",
    "\n",
    "Output:\n",
    "\n",
    "When you run the code, it creates a blockchain, adds a few blocks, and prints out the chain. It will also check if the blockchain is valid at the end.\n",
    "\n",
    "Let me know if you need more details or adjustments!"
   ]
  }
 ],
 "metadata": {
  "kernelspec": {
   "display_name": ".venv",
   "language": "python",
   "name": "python3"
  },
  "language_info": {
   "codemirror_mode": {
    "name": "ipython",
    "version": 3
   },
   "file_extension": ".py",
   "mimetype": "text/x-python",
   "name": "python",
   "nbconvert_exporter": "python",
   "pygments_lexer": "ipython3",
   "version": "3.12.4"
  }
 },
 "nbformat": 4,
 "nbformat_minor": 2
}
