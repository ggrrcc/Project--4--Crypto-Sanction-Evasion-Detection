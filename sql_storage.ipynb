{
 "cells": [
  {
   "cell_type": "markdown",
   "metadata": {},
   "source": [
    "Store sqllite\n",
    "\n",
    "- blockid\n",
    "- \\# transactions\n",
    "- largest transaction\n",
    "- avg transaction amount\n",
    "- average fee\n",
    "- time in gmt (convert)"
   ]
  },
  {
   "cell_type": "code",
   "execution_count": null,
   "metadata": {},
   "outputs": [],
   "source": [
    "import blockcypher as bc\n",
    "import requests\n",
    "from datetime import datetime, timezone\n",
    "\n",
    "token = 'e05a8646a0ed4b55b9fadb731877d9e6'\n",
    "url = \"https://api.blockcypher.com/v1/btc/main?token=\"+token"
   ]
  },
  {
   "cell_type": "code",
   "execution_count": 4,
   "metadata": {},
   "outputs": [
    {
     "name": "stdout",
     "output_type": "stream",
     "text": [
      "Block ID: 000000000000000000012389cc51a5057e087221d73fbac77dc53129fcea1edb\n",
      "Number of Transactions: 565\n",
      "Largest Transaction (BTC): 10.19321490\n",
      "Average Transaction (BTC): 0.06186582\n",
      "Average Fee (BTC): 0.00000171\n",
      "Time (GMT): 2025-04-08 02:05:43 GMT\n"
     ]
    }
   ],
   "source": [
    "# Step 1: Get the latest block hash\n",
    "block_url = \"https://api.blockcypher.com/v1/btc/main\"\n",
    "block_resp = requests.get(block_url).json()\n",
    "block_hash = block_resp['hash']\n",
    "\n",
    "# Step 2: Get block details using block hash\n",
    "block_detail_url = f\"https://api.blockcypher.com/v1/btc/main/blocks/{block_hash}?txstart=1&limit=500\"\n",
    "detail_resp = requests.get(block_detail_url).json()\n",
    "\n",
    "# Basic data\n",
    "block_id = detail_resp.get('hash')\n",
    "num_transactions = detail_resp.get('n_tx')\n",
    "timestamp_unix = detail_resp.get('time')  # ISO8601 format\n",
    "\n",
    "# Convert ISO8601 to GMT datetime\n",
    "timestamp_gmt = datetime.fromisoformat(timestamp_unix.replace(\"Z\", \"+00:00\")).strftime(\"%Y-%m-%d %H:%M:%S GMT\")\n",
    "\n",
    "# Step 3: Get transactions in the block\n",
    "tx_hashes = detail_resp.get('txids', [])  # List of transaction hashes\n",
    "tx_values = []\n",
    "tx_fees = []\n",
    "\n",
    "for tx_hash in tx_hashes:\n",
    "    tx_url = f\"https://api.blockcypher.com/v1/btc/main/txs/{tx_hash}\"\n",
    "    tx_resp = requests.get(tx_url).json()\n",
    "\n",
    "    total = tx_resp.get('total', 0) / 1e8  # Convert from satoshis to BTC\n",
    "    fee = tx_resp.get('fees', 0) / 1e8     # Also convert to BTC\n",
    "\n",
    "    tx_values.append(total)\n",
    "    tx_fees.append(fee)\n",
    "\n",
    "# Step 4: Calculate required values\n",
    "largest_transaction = max(tx_values) if tx_values else 0\n",
    "avg_transaction = sum(tx_values) / len(tx_values) if tx_values else 0\n",
    "avg_fee = sum(tx_fees) / len(tx_fees) if tx_fees else 0\n",
    "\n",
    "# Final Output\n",
    "print(f\"Block ID: {block_id}\")\n",
    "print(f\"Number of Transactions: {num_transactions}\")\n",
    "print(f\"Largest Transaction (BTC): {largest_transaction:.8f}\")\n",
    "print(f\"Average Transaction (BTC): {avg_transaction:.8f}\")\n",
    "print(f\"Average Fee (BTC): {avg_fee:.8f}\")\n",
    "print(f\"Time (GMT): {timestamp_gmt}\")\n"
   ]
  }
 ],
 "metadata": {
  "kernelspec": {
   "display_name": ".venv",
   "language": "python",
   "name": "python3"
  },
  "language_info": {
   "codemirror_mode": {
    "name": "ipython",
    "version": 3
   },
   "file_extension": ".py",
   "mimetype": "text/x-python",
   "name": "python",
   "nbconvert_exporter": "python",
   "pygments_lexer": "ipython3",
   "version": "3.9.21"
  }
 },
 "nbformat": 4,
 "nbformat_minor": 2
}
